{
 "cells": [
  {
   "cell_type": "markdown",
   "id": "8d7be091-ed28-40fb-b61d-0d5d02c0aef5",
   "metadata": {},
   "source": [
    "# Weaviate Modules\n",
    "\n",
    "Weaviate has 16 different types of modules (see [source code](https://github.com/weaviate/weaviate/blob/main/entities/modulecapabilities/module.go#L27-L42)). Based on their purpose, these modules can be categorized into 10 groups.\n",
    "\n",
    "| Purpose                            | Modules Types                                                             | Examples                                                                 |\n",
    "|:-----------------------------------|:--------------------------------------------------------------------------|:-------------------------------------------------------------------------|\n",
    "| Text Vectorization                 | `Text2Vec`                                                                | `text2vec-openai`, `text2vec-huggingface`, `text2vec-transformer`, etc. |\n",
    "| Image and Multimodal Vectorization | `Img2Vec`, `Multi2Vec`, `multi2Multivec`                                  | `img2vec-neural`, `multi2vec-clip`, `multi2vec-bind`, etc.            |\n",
    "| Reference-Based Vectorization      | `Ref2Vec`                                                                 | `ref2vec-centroid` etc.                                                |\n",
    "| Advanced Text Vectorization        | `Text2ManyVec`, `Text2Multivec`                                           | `text2multivec-jinaai` etc.                                        |\n",
    "| Generative AI                      | `Text2TextGenerative`                                                     | `generative-openai`, `generative-nvidia`, `generative-ollam` etc.        |\n",
    "| Text Processing                    | `Text2TextSummarize`, `Text2TextReranker`, `Text2TextNER`, `Text2TextQnA` | `sum-transformers`, `reranker-cohere`, `reranker-transformers` etc.     |\n",
    "| Infrastructure and Storage         | `Backup`                                                                  | `backup-s3`, `backup-gcs`, `backup-azure`, `backup-filesystem`           |\n",
    "| Performance and Scaling            | `Offload`                                                                 | `offload-s3`                                                             |\n",
    "| Monitoring and Analytics           | `Usage`                                                                   | `usage-s3`, `usage-gcs`                                                |\n",
    "| Extension                          | `Extension`                                                               | Extend Weaviate with custom business logic                               |"
   ]
  },
  {
   "cell_type": "code",
   "execution_count": null,
   "id": "4984ae6e-c90c-4fd9-a10b-7eb8b41c1a04",
   "metadata": {},
   "outputs": [],
   "source": []
  },
  {
   "cell_type": "code",
   "execution_count": null,
   "id": "ca8fcf59-849b-4996-9086-efa3be517aa8",
   "metadata": {},
   "outputs": [],
   "source": []
  },
  {
   "cell_type": "code",
   "execution_count": null,
   "id": "3bd643f0-32a7-4447-b3dc-0d7f620ea98b",
   "metadata": {},
   "outputs": [],
   "source": []
  }
 ],
 "metadata": {
  "kernelspec": {
   "display_name": "Python 3 (ipykernel)",
   "language": "python",
   "name": "python3"
  },
  "language_info": {
   "codemirror_mode": {
    "name": "ipython",
    "version": 3
   },
   "file_extension": ".py",
   "mimetype": "text/x-python",
   "name": "python",
   "nbconvert_exporter": "python",
   "pygments_lexer": "ipython3",
   "version": "3.11.11"
  }
 },
 "nbformat": 4,
 "nbformat_minor": 5
}
