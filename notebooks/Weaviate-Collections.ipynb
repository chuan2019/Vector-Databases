{
 "cells": [
  {
   "cell_type": "markdown",
   "id": "0608d4b2-79a9-43f3-bee0-a5a3baf130f5",
   "metadata": {},
   "source": [
    "# Access Weaviate Database Using OpenAI"
   ]
  },
  {
   "cell_type": "code",
   "execution_count": 1,
   "id": "6ba89c8d-a2a0-49a8-b2ed-66a153147e1a",
   "metadata": {},
   "outputs": [],
   "source": [
    "from openai import OpenAI"
   ]
  },
  {
   "cell_type": "code",
   "execution_count": 2,
   "id": "d12b126b-2619-4671-a7f3-b54c68e3a3a3",
   "metadata": {},
   "outputs": [],
   "source": [
    "# Initialize the client with your local server's URL\n",
    "client = OpenAI(\n",
    "    base_url=\"http://localhost:11435/v1\",  # Ollama endpoint\n",
    "    api_key=\"not_needed\"\n",
    ")"
   ]
  },
  {
   "cell_type": "code",
   "execution_count": 3,
   "id": "94842417-71f3-4ec7-a589-439f8f506fd3",
   "metadata": {},
   "outputs": [],
   "source": [
    "prompt = \"Explain quantum computing in simple terms.\""
   ]
  },
  {
   "cell_type": "code",
   "execution_count": 4,
   "id": "c5e79ab3-9c80-47d3-bfd4-68002f894265",
   "metadata": {},
   "outputs": [],
   "source": [
    "response = client.chat.completions.create(\n",
    "    model=\"llama3.2\",\n",
    "    messages=[{\n",
    "        \"role\": \"user\",\n",
    "        \"content\": prompt,\n",
    "    }],\n",
    "    temperature=0.7,\n",
    ")"
   ]
  },
  {
   "cell_type": "code",
   "execution_count": 5,
   "id": "68d9003d-026c-4b22-8ad9-c48a8d4c21c5",
   "metadata": {},
   "outputs": [],
   "source": [
    "# print(f\"response.choices[0].message.content = {response.choices[0].message.content}\")"
   ]
  },
  {
   "cell_type": "code",
   "execution_count": null,
   "id": "ef1c7717-dee0-4ff9-97e9-45891c9872af",
   "metadata": {},
   "outputs": [],
   "source": []
  },
  {
   "cell_type": "code",
   "execution_count": 6,
   "id": "3e0ffe8f-36be-45f7-b42b-8f408356547d",
   "metadata": {},
   "outputs": [],
   "source": [
    "payload = {\n",
    "    \"model\": \"nomic-embed-text\",\n",
    "    \"input\": \"A nine-storied tower rises from a heap of earth;\"\n",
    "}"
   ]
  },
  {
   "cell_type": "code",
   "execution_count": 7,
   "id": "3623b1b4-4bf7-46e7-9eba-6c2d18fc4b58",
   "metadata": {},
   "outputs": [],
   "source": [
    "json_dict = client.embeddings.create(\n",
    "    input=\"A nine-storied tower rises from a heap of earth;\",\n",
    "    model=\"nomic-embed-text\",\n",
    ").model_dump()"
   ]
  },
  {
   "cell_type": "code",
   "execution_count": 10,
   "id": "5a9e4baf-32ce-49f7-807f-b9784884b4d2",
   "metadata": {},
   "outputs": [
    {
     "name": "stdout",
     "output_type": "stream",
     "text": [
      "dict_keys(['data', 'model', 'object', 'usage'])\n"
     ]
    }
   ],
   "source": [
    "print(json_dict.keys())"
   ]
  },
  {
   "cell_type": "code",
   "execution_count": null,
   "id": "dba2c590-9598-4d7b-8ef7-87527a555f1e",
   "metadata": {},
   "outputs": [],
   "source": []
  },
  {
   "cell_type": "code",
   "execution_count": null,
   "id": "446a5fdf-c063-4b03-8754-71a1d367db9c",
   "metadata": {},
   "outputs": [],
   "source": []
  },
  {
   "cell_type": "code",
   "execution_count": null,
   "id": "4bc16c52-fe56-46d2-8bdb-5a34cb9664fa",
   "metadata": {},
   "outputs": [],
   "source": []
  },
  {
   "cell_type": "code",
   "execution_count": null,
   "id": "72e56e4f-1ebb-45af-a478-b384e17b212f",
   "metadata": {},
   "outputs": [],
   "source": []
  },
  {
   "cell_type": "code",
   "execution_count": null,
   "id": "849fa1a9-7866-4f0b-a5e8-60e90c0487d2",
   "metadata": {},
   "outputs": [],
   "source": []
  },
  {
   "cell_type": "code",
   "execution_count": null,
   "id": "7da8a6b2-a2d3-4620-b0f6-2a3bbad4ecf3",
   "metadata": {},
   "outputs": [],
   "source": []
  },
  {
   "cell_type": "code",
   "execution_count": null,
   "id": "2e083506-7f4f-4519-a065-6d8cbf3a93f2",
   "metadata": {},
   "outputs": [],
   "source": []
  },
  {
   "cell_type": "code",
   "execution_count": null,
   "id": "fe4853c8-0bd6-4060-91fa-a2642abf07f5",
   "metadata": {},
   "outputs": [],
   "source": []
  }
 ],
 "metadata": {
  "kernelspec": {
   "display_name": "Python 3 (ipykernel)",
   "language": "python",
   "name": "python3"
  },
  "language_info": {
   "codemirror_mode": {
    "name": "ipython",
    "version": 3
   },
   "file_extension": ".py",
   "mimetype": "text/x-python",
   "name": "python",
   "nbconvert_exporter": "python",
   "pygments_lexer": "ipython3",
   "version": "3.11.11"
  }
 },
 "nbformat": 4,
 "nbformat_minor": 5
}
