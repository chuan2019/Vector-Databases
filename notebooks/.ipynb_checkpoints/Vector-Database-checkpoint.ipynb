{
 "cells": [
  {
   "cell_type": "markdown",
   "id": "36626630-89b4-4b5e-893d-6bbdc6113bd6",
   "metadata": {},
   "source": [
    "# Vector Databases\n",
    "\n",
    "## Typical Vector Database Operations\n",
    "\n",
    "- Database Setup\n",
    "- Load Documents\n",
    "- Create sparse vectors for keyword search\n",
    "- Create dense vectors for semantic search\n",
    "- Create HNSW index to power ANN algorithm\n",
    "- Run searches\n",
    "\n",
    "## Weaviate\n",
    "\n",
    "### What is Weaviate\n",
    "\n",
    "[Weaviate](https://weaviate.io/) is an open-source vector database, which is available on [github](https://github.com/weaviate/weaviate).\n",
    "\n",
    "### Quick Start\n",
    "\n",
    "Weaviate can be run on cloud or hosted locally. Here we demonstrate how to host weaviate locally.\n",
    "\n",
    "#### Prerequisites\n",
    "\n",
    "- Docker, Ollama\n",
    "- Models: `nomic-embed-text`, `llama3.2`\n",
    "\n",
    "```\n",
    "ollama pull nomic-embed-text\n",
    "ollama pull llama3.2\n",
    "```\n",
    "\n",
    "<div style=\"text-align: center;\">\n",
    "  <img src=\"images/000.weaviate.00.prerequisites.png\" alt=\"Weaviate Prerequisites\" style=\"width: 70%;\">\n",
    "</div>"
   ]
  },
  {
   "cell_type": "markdown",
   "id": "8a2f3c46-b96e-4ba7-8b71-e8872224af95",
   "metadata": {},
   "source": [
    "## Step 1: Set up Weaviate\n",
    "\n",
    "### 1.1 Architectures\n",
    "\n",
    "In this exercise, I set up Weaviate with two different architectures, and for simplicity, mainly focus on the first architecture.\n",
    "\n",
    "- **Arch1**: run _Weaviate_ in docker, and run _Ollama_ locally in the host machine\n",
    "- **Arch2**: run both _Weaviate_ and _Ollama_ in docker containers\n",
    "\n",
    "`docker-compose.yml`\n",
    "```docker-compose.yml\n",
    "services:\n",
    "  weaviate:\n",
    "    image: cr.weaviate.io/semitechnologies/weaviate:1.32.2\n",
    "    ports:\n",
    "      - 8080:8080\n",
    "      - 50051:50051\n",
    "    volumes:\n",
    "      - weaviate_data:/var/lib/weaviate\n",
    "    restart: on-failure:0\n",
    "    environment:\n",
    "      QUERY_DEFAULTS_LIMIT: 25\n",
    "      AUTHENTICATION_ANONYMOUS_ACCESS_ENABLED: 'true'\n",
    "      PERSISTENCE_DATA_PATH: '/var/lib/weaviate'\n",
    "      ENABLE_API_BASED_MODULES: 'true'\n",
    "      ENABLE_MODULES: 'text2vec-ollama,generative-ollama'\n",
    "      CLUSTER_HOSTNAME: 'node1'\n",
    "    command:\n",
    "      - --host\n",
    "      - 0.0.0.0\n",
    "      - --port\n",
    "      - '8080'\n",
    "      - --scheme\n",
    "      - http\n",
    "    networks:\n",
    "      - weaviate_net\n",
    "\n",
    "  ollama:\n",
    "    image: ollama/ollama\n",
    "    container_name: ollama\n",
    "    ports:\n",
    "      - \"11435:11434\"\n",
    "    environment:\n",
    "      - OLLAMA_HOST=0.0.0.0:11434\n",
    "      - OLLAMA_MODELS=/opt/models\n",
    "    volumes:\n",
    "      - ollama_data:/root/.ollama\n",
    "      - ./models:/opt/models\n",
    "    deploy:\n",
    "      resources:\n",
    "        reservations:\n",
    "          devices:\n",
    "            - driver: nvidia\n",
    "              count: 1\n",
    "              capabilities: [gpu]\n",
    "    restart: unless-stopped\n",
    "\n",
    "networks:\n",
    "  weaviate_net:\n",
    "volumes:\n",
    "  weaviate_data:\n",
    "  ollama_data:\n",
    "```\n",
    "\n",
    "### 1.2 Create a Weaviate Database\n",
    "\n",
    "<div style=\"text-align: center;\">\n",
    "  <img src=\"images/000.weaviate.01.docker.arch2.png\" alt=\"Weaviate Container\" style=\"width: 95%;\">\n",
    "</div>\n",
    "\n",
    "### 1.3 Install a client library\n",
    "\n",
    "```\n",
    "pip install -U weaviate-client\n",
    "```\n",
    "\n",
    "### 1.4 Connect to Weaviate"
   ]
  },
  {
   "cell_type": "code",
   "execution_count": 1,
   "id": "dbc41001-5aea-4e22-8f3b-0df4c5abbe65",
   "metadata": {},
   "outputs": [],
   "source": [
    "import weaviate"
   ]
  },
  {
   "cell_type": "code",
   "execution_count": 2,
   "id": "a06a95dc-354d-4aaa-b3cd-368110b52f72",
   "metadata": {},
   "outputs": [
    {
     "name": "stdout",
     "output_type": "stream",
     "text": [
      "True\n"
     ]
    }
   ],
   "source": [
    "client = weaviate.connect_to_local()\n",
    "print(client.is_ready())"
   ]
  },
  {
   "cell_type": "code",
   "execution_count": 3,
   "id": "d29df485-fb38-4f45-8c45-07c298ae0bcb",
   "metadata": {},
   "outputs": [],
   "source": [
    "client.close()"
   ]
  },
  {
   "cell_type": "markdown",
   "id": "e9a87445-2948-40fa-8612-afda42b5a7f4",
   "metadata": {},
   "source": [
    "## Step 2: Populate the database\n",
    "\n",
    "### 2.1 Define a collection\n",
    "\n",
    "> **What is a Collection?**\n",
    "> \n",
    "> A collection is a set of objects that share the same data structure, like a table in relational databases or a collection in NoSQL databases. A collection also includes additional configurations that define how the data objects are stored and indexed.\n",
    "\n",
    "The following example creates a _collection_ called `Question` with:\n",
    "- Ollama [embedding model integration](https://docs.weaviate.io/weaviate/model-providers/ollama/embeddings) to create vectors during ingestion & queries, using the `nomic-embed-text` model, and\n",
    "- Ollama [generative AI integrations](https://docs.weaviate.io/weaviate/model-providers/ollama/generative) for retrieval augmented generation (RAG), using the `llama3.2` model."
   ]
  },
  {
   "cell_type": "code",
   "execution_count": 4,
   "id": "ee4e9f11-9609-4131-9ef6-cf4ff5ad1812",
   "metadata": {},
   "outputs": [],
   "source": [
    "import weaviate\n",
    "from weaviate.classes.config import Configure"
   ]
  },
  {
   "cell_type": "code",
   "execution_count": 5,
   "id": "b7e1c44b-4b77-403b-8b32-7a6455802ef9",
   "metadata": {},
   "outputs": [],
   "source": [
    "client = weaviate.connect_to_local()"
   ]
  },
  {
   "cell_type": "code",
   "execution_count": 7,
   "id": "38c48f78-42c5-4a34-9ec1-3ba7ebb9badd",
   "metadata": {},
   "outputs": [],
   "source": [
    "COLLECTION_NAME=\"Question\""
   ]
  },
  {
   "cell_type": "code",
   "execution_count": 8,
   "id": "69df1013-c32e-4a8d-98e2-693c1142777e",
   "metadata": {},
   "outputs": [],
   "source": [
    "if client.collections.exists(COLLECTION_NAME):\n",
    "    client.collections.delete(COLLECTION_NAME)"
   ]
  },
  {
   "cell_type": "code",
   "execution_count": 9,
   "id": "939b8d9e-99b1-4b52-a038-219560e8e430",
   "metadata": {},
   "outputs": [],
   "source": [
    "if not client.collections.exists(COLLECTION_NAME):\n",
    "    questions = client.collections.create(\n",
    "        name=\"Question\",\n",
    "        vector_config=Configure.Vectors.text2vec_ollama(  # Configure the Ollama embedding integration\n",
    "            api_endpoint=\"http://host.docker.internal:11434\",  # If running Ollama in Docker, you might need: http://ollama:11434\n",
    "            model=\"nomic-embed-text\",  # The model to use\n",
    "        ),\n",
    "        generative_config=Configure.Generative.ollama(  # Configure the Ollama generative integration\n",
    "            api_endpoint=\"http://host.docker.internal:11434\",  # If running Ollama in Docker, you might need: http://ollama:11434\n",
    "            model=\"llama3.2\",  # The model to use\n",
    "        ),\n",
    "    )"
   ]
  },
  {
   "cell_type": "code",
   "execution_count": 10,
   "id": "62a92fed-d3cf-410e-8e84-3c3587a4acaf",
   "metadata": {},
   "outputs": [],
   "source": [
    "client.close()"
   ]
  },
  {
   "cell_type": "markdown",
   "id": "48cef37f-6c38-42dd-9c03-313481fc4e41",
   "metadata": {},
   "source": [
    "### 2.2 Add Objects\n",
    "\n",
    "We can now add data to our collection.\n",
    "\n",
    "The following example:\n",
    "\n",
    "- Loads objects, and\n",
    "- Adds objects to the target collection (`Question`) using a batch process.\n",
    "\n",
    "> BATCH IMPORTS\n",
    ">\n",
    "> ([Batch imports](https://docs.weaviate.io/weaviate/manage-objects/import)) are the most efficient way to add large amounts of data, as it sends multiple objects in a single request. See the [How-to: Batch import](https://docs.weaviate.io/weaviate/manage-objects/import) guide for more information.\n"
   ]
  },
  {
   "cell_type": "code",
   "execution_count": 11,
   "id": "f0a05fc7-0cf1-4981-868a-2c473f3e58a8",
   "metadata": {},
   "outputs": [],
   "source": [
    "import weaviate\n",
    "import requests, json\n",
    "\n",
    "client = weaviate.connect_to_local()"
   ]
  },
  {
   "cell_type": "code",
   "execution_count": 12,
   "id": "34d5770b-be98-41f9-b709-63a8b961fd17",
   "metadata": {},
   "outputs": [
    {
     "name": "stdout",
     "output_type": "stream",
     "text": [
      "[{'Category': 'SCIENCE', 'Question': 'This organ removes excess glucose from the blood & stores it as glycogen', 'Answer': 'Liver'}, {'Category': 'ANIMALS', 'Question': \"It's the only living mammal in the order Proboseidea\", 'Answer': 'Elephant'}, {'Category': 'ANIMALS', 'Question': 'The gavial looks very much like a crocodile except for this bodily feature', 'Answer': 'the nose or snout'}, {'Category': 'ANIMALS', 'Question': 'Weighing around a ton, the eland is the largest species of this animal in Africa', 'Answer': 'Antelope'}, {'Category': 'ANIMALS', 'Question': 'Heaviest of all poisonous snakes is this North American rattlesnake', 'Answer': 'the diamondback rattler'}, {'Category': 'SCIENCE', 'Question': \"2000 news: the Gunnison sage grouse isn't just another northern sage grouse, but a new one of this classification\", 'Answer': 'species'}, {'Category': 'SCIENCE', 'Question': 'A metal that is ductile can be pulled into this while cold & under pressure', 'Answer': 'wire'}, {'Category': 'SCIENCE', 'Question': 'In 1953 Watson & Crick built a model of the molecular structure of this, the gene-carrying substance', 'Answer': 'DNA'}, {'Category': 'SCIENCE', 'Question': 'Changes in the tropospheric layer of this are what gives us weather', 'Answer': 'the atmosphere'}, {'Category': 'SCIENCE', 'Question': 'In 70-degree air, a plane traveling at about 1,130 feet per second breaks it', 'Answer': 'Sound barrier'}]\n"
     ]
    }
   ],
   "source": [
    "file_name = \"./jeopardy_tiny.json\"\n",
    "try:\n",
    "    with open(file_name, 'r') as file:\n",
    "        data = json.load(file)\n",
    "    print(data)\n",
    "except FileNotFoundError:\n",
    "    print(f\"Error: File '{file_name}' not found.\")\n",
    "except json.JSONDecodeError as e:\n",
    "    print(f\"Invalid JOSN format: {e}\")"
   ]
  },
  {
   "cell_type": "code",
   "execution_count": 20,
   "id": "cee880f0-82de-4bab-863d-67ff9eebdc94",
   "metadata": {},
   "outputs": [],
   "source": [
    "questions = client.collections.get(COLLECTION_NAME)"
   ]
  },
  {
   "cell_type": "code",
   "execution_count": 21,
   "id": "33d96e3b-dc65-4490-b8dd-5c6efa136083",
   "metadata": {},
   "outputs": [],
   "source": [
    "from weaviate.util import generate_uuid5\n",
    "from tqdm import tqdm"
   ]
  },
  {
   "cell_type": "code",
   "execution_count": 22,
   "id": "4efc33ba-7e7b-4dc4-b6ac-32c7133e3bb5",
   "metadata": {},
   "outputs": [
    {
     "name": "stderr",
     "output_type": "stream",
     "text": [
      "100%|██████████████████████████████████████████████████████████████████████████████████████████████████████████████████████████████████████████████████| 10/10 [00:00<00:00, 105.18it/s]\n"
     ]
    }
   ],
   "source": [
    "# Set up a batch process with specified fixed size and concurrency\n",
    "with questions.batch.fixed_size(batch_size=1, concurrent_requests=1) as batch:\n",
    "    # Iterate over a subset of the dataset\n",
    "    for document in tqdm(data):\n",
    "        # Generate a UUID based on the article_content\n",
    "        uuid = generate_uuid5(document)\n",
    "\n",
    "        # Add the object to the batch with properties and UUID\n",
    "        batch.add_object(\n",
    "            properties=document,\n",
    "            uuid=uuid,\n",
    "        )\n",
    "\n",
    "        if batch.number_errors > 10:\n",
    "            print(\"Batch import stopped due to excessive errors.\")\n",
    "            break\n",
    "\n",
    "failed_objects = questions.batch.failed_objects\n",
    "if failed_objects:\n",
    "    print(f\"Number of failed imports: {len(failed_objects)}\")\n",
    "    print(f\"First failed object: {failed_objects[0]}\")"
   ]
  },
  {
   "cell_type": "code",
   "execution_count": 23,
   "id": "7366cb4d-1556-4be9-a9e5-4ec49d63fab9",
   "metadata": {},
   "outputs": [],
   "source": [
    "client.close()"
   ]
  },
  {
   "cell_type": "code",
   "execution_count": null,
   "id": "d81f05e1-05ea-422c-96f4-d44d4c93b11a",
   "metadata": {},
   "outputs": [],
   "source": []
  },
  {
   "cell_type": "code",
   "execution_count": null,
   "id": "e2336488-91bc-4928-8755-bc9aadd7d16d",
   "metadata": {},
   "outputs": [],
   "source": []
  },
  {
   "cell_type": "markdown",
   "id": "04649dc8-1f13-474c-b577-e02d874d84b5",
   "metadata": {},
   "source": [
    "# Step 3: Queries\n",
    "\n",
    "## 3.1 Semantic Search"
   ]
  },
  {
   "cell_type": "code",
   "execution_count": 30,
   "id": "f5c41a97-1843-4a51-bf10-45018875e98a",
   "metadata": {},
   "outputs": [],
   "source": [
    "import weaviate\n",
    "import json\n",
    "\n",
    "client = weaviate.connect_to_local()\n",
    "questions = client.collections.get(COLLECTION_NAME)"
   ]
  },
  {
   "cell_type": "code",
   "execution_count": 31,
   "id": "a6263d9d-b8fb-48d1-a2d5-763f226b35ac",
   "metadata": {},
   "outputs": [
    {
     "name": "stdout",
     "output_type": "stream",
     "text": [
      "{\n",
      "  \"question\": \"In 1953 Watson & Crick built a model of the molecular structure of this, the gene-carrying substance\",\n",
      "  \"category\": \"SCIENCE\",\n",
      "  \"answer\": \"DNA\"\n",
      "}\n",
      "{\n",
      "  \"question\": \"This organ removes excess glucose from the blood & stores it as glycogen\",\n",
      "  \"category\": \"SCIENCE\",\n",
      "  \"answer\": \"Liver\"\n",
      "}\n"
     ]
    }
   ],
   "source": [
    "response = questions.query.near_text(\n",
    "    query = \"biology\",\n",
    "    limit = 2\n",
    ")\n",
    "\n",
    "for obj in response.objects:\n",
    "    print(json.dumps(obj.properties, indent=2))\n",
    "\n",
    "client.close()"
   ]
  },
  {
   "cell_type": "markdown",
   "id": "ecc5d102-fa14-4675-86c1-a573ee35af24",
   "metadata": {},
   "source": [
    "## 3.2 Retrieval Augmented Generation"
   ]
  },
  {
   "cell_type": "code",
   "execution_count": 71,
   "id": "13a656c5-c49c-4665-bda6-f89a2084ef28",
   "metadata": {},
   "outputs": [
    {
     "name": "stdout",
     "output_type": "stream",
     "text": [
      "\"Did you know? 🤔💡 DNA was first modeled by Watson & Crick in 1953! 💻 And, did you know your liver is a sugar superstar? 🍽️ It removes excess glucose from the blood and stores it as glycogen! 💪 #ScienceFacts #DNA #Liver #Glycogen\"\n"
     ]
    }
   ],
   "source": [
    "import weaviate\n",
    "\n",
    "client = weaviate.connect_to_local()\n",
    "\n",
    "questions = client.collections.get(COLLECTION_NAME)\n",
    "\n",
    "response = questions.generate.near_text(\n",
    "    query=\"biology\",\n",
    "    limit=2,\n",
    "    grouped_task=\"Write a tweet with emojis about these facts.\"\n",
    ")\n",
    "\n",
    "print(response.generative.text) # Inspect the generated text"
   ]
  },
  {
   "cell_type": "code",
   "execution_count": null,
   "id": "b778138f-bfd1-4c52-baa0-e1e98e1454c0",
   "metadata": {},
   "outputs": [],
   "source": []
  },
  {
   "cell_type": "code",
   "execution_count": null,
   "id": "f506d85b-338f-4fe5-a684-49e5538146eb",
   "metadata": {},
   "outputs": [],
   "source": []
  },
  {
   "cell_type": "code",
   "execution_count": null,
   "id": "27d42438-b908-4889-aae4-d631857f2758",
   "metadata": {},
   "outputs": [],
   "source": []
  },
  {
   "cell_type": "markdown",
   "id": "30f3f2fe-828a-41c8-aa26-f0c5269ec2cc",
   "metadata": {},
   "source": [
    "# 4. My other exsamples"
   ]
  },
  {
   "cell_type": "code",
   "execution_count": 40,
   "id": "91b34489-9064-4cba-8861-8758355a861f",
   "metadata": {},
   "outputs": [],
   "source": [
    "import joblib\n",
    "from pprint import pprint\n",
    "from weaviate.classes.config import Configure, Property, DataType\n",
    "from weaviate.classes.query import MetadataQuery\n",
    "import weaviate\n",
    "from weaviate.exceptions import WeaviateInvalidInputError"
   ]
  },
  {
   "cell_type": "code",
   "execution_count": 41,
   "id": "ead5b6ec-19ab-490e-9bce-7b4011f55421",
   "metadata": {},
   "outputs": [
    {
     "name": "stdout",
     "output_type": "stream",
     "text": [
      "{'attractions': 'South Rim, Havasu Falls, Skywalk',\n",
      " 'best_season_to_visit': 'Spring, Fall',\n",
      " 'budget': 'Moderate',\n",
      " 'description': 'A stunning canyon with vast vistas and incredible geology.',\n",
      " 'last_updated': '2023-10-01T00:00:00Z',\n",
      " 'place': 'Grand Canyon',\n",
      " 'state': 'Arizona',\n",
      " 'user_ratings': 4.8}\n"
     ]
    }
   ],
   "source": [
    "data = joblib.load(\"data.joblib\")\n",
    "pprint(data[0])"
   ]
  },
  {
   "cell_type": "code",
   "execution_count": null,
   "id": "106f56f1-8cbf-41dc-8455-c01cd3662416",
   "metadata": {},
   "outputs": [],
   "source": []
  },
  {
   "cell_type": "code",
   "execution_count": 72,
   "id": "518f09e5-c5b2-402b-85b2-c5b0d7dc1f57",
   "metadata": {},
   "outputs": [],
   "source": [
    "if client:\n",
    "    client.close()\n",
    "client = weaviate.connect_to_local()\n",
    "try:\n",
    "    if client.collections.exists(\"Article\"):\n",
    "        client.collections.delete(\"Article\")\n",
    "    client.collections.create(\n",
    "        name=\"Article\",\n",
    "        vector_config=Configure.Vectors.text2vec_ollama(  # Configure the Ollama embedding integration\n",
    "            api_endpoint=\"http://host.docker.internal:11434\",\n",
    "            model=\"nomic-embed-text\",  # The model to use\n",
    "        ),\n",
    "        generative_config=Configure.Generative.ollama(  # Configure the Ollama generative integration\n",
    "            api_endpoint=\"http://host.docker.internal:11434\",\n",
    "            model=\"llama3.2\",  # The model to use\n",
    "        ),\n",
    "        properties=[  # Define properties\n",
    "            Property(name=\"place\",vectorize_property_name=True,data_type= DataType.TEXT),\n",
    "            Property(name=\"state\",vectorize_property_name=True, data_type=DataType.TEXT),\n",
    "            Property(name=\"description\",vectorize_property_name=True, data_type=DataType.TEXT),\n",
    "            Property(name=\"best_season_to_visit\",vectorize_property_name=True, data_type=DataType.TEXT),\n",
    "            Property(name=\"attractions\",vectorize_property_name=True, data_type=DataType.TEXT),\n",
    "            Property(name=\"budget\",vectorize_property_name=True, data_type=DataType.TEXT),\n",
    "            Property(name=\"user_ratings\", data_type=DataType.NUMBER),\n",
    "            Property(name=\"last_updated\", data_type=DataType.DATE),\n",
    "\n",
    "        ]\n",
    "    )\n",
    "except WeaviateInvalidInputError as err:\n",
    "    print(f\"Creating collection failed: {err}\")"
   ]
  },
  {
   "cell_type": "code",
   "execution_count": 73,
   "id": "dcbb6e50-958b-4b00-a3f0-11d5e8ea0c10",
   "metadata": {},
   "outputs": [
    {
     "data": {
      "text/plain": [
       "dict_keys(['Article', 'Question'])"
      ]
     },
     "execution_count": 73,
     "metadata": {},
     "output_type": "execute_result"
    }
   ],
   "source": [
    "client.collections.list_all().keys()"
   ]
  },
  {
   "cell_type": "code",
   "execution_count": null,
   "id": "142152d6-f1d0-48fa-9507-0e10cc11fc98",
   "metadata": {},
   "outputs": [],
   "source": []
  },
  {
   "cell_type": "code",
   "execution_count": 76,
   "id": "c6add3ba-b24c-43f4-939b-bbb542f2250e",
   "metadata": {},
   "outputs": [],
   "source": [
    "if client:\n",
    "    client.close()\n",
    "client = weaviate.connect_to_local()\n",
    "articles = client.collections.get(\"Article\")"
   ]
  },
  {
   "cell_type": "code",
   "execution_count": 77,
   "id": "8bcdc05a-2160-4e78-8d96-613659069f4c",
   "metadata": {},
   "outputs": [
    {
     "name": "stderr",
     "output_type": "stream",
     "text": [
      "100%|███████████████████████████████████████████████████████████████████████████████████████████████████████████████████████████████████████████████████| 20/20 [00:00<00:00, 99.66it/s]\n"
     ]
    }
   ],
   "source": [
    "with articles.batch.fixed_size(batch_size=1, concurrent_requests=1) as batch:\n",
    "    for document in tqdm(data):\n",
    "        uuid = generate_uuid5(document)\n",
    "        batch.add_object(\n",
    "            properties=document,\n",
    "            uuid=uuid,\n",
    "        )"
   ]
  },
  {
   "cell_type": "code",
   "execution_count": 78,
   "id": "9a2c3b1a-b919-4800-9e18-81827f0b0110",
   "metadata": {},
   "outputs": [
    {
     "name": "stdout",
     "output_type": "stream",
     "text": [
      "{'attractions': 'Cellhouse Tour, Alcatraz Lighthouse',\n",
      " 'best_season_to_visit': 'Spring, Summer',\n",
      " 'budget': 'Low',\n",
      " 'description': 'Famed former prison island located in San Francisco Bay.',\n",
      " 'last_updated': datetime.datetime(2023, 10, 1, 0, 0, tzinfo=datetime.timezone.utc),\n",
      " 'place': 'Alcatraz Island',\n",
      " 'state': 'California',\n",
      " 'user_ratings': 4.4}\n",
      "o.metadata.distance = 0.5683944225311279\n",
      "\n",
      "\n",
      "{'attractions': 'Walk of Fame, Hollywood Sign',\n",
      " 'best_season_to_visit': 'Spring',\n",
      " 'budget': 'Moderate',\n",
      " 'description': 'Famous district in Los Angeles known as the entertainment '\n",
      "                'capital of the world.',\n",
      " 'last_updated': datetime.datetime(2023, 10, 1, 0, 0, tzinfo=datetime.timezone.utc),\n",
      " 'place': 'Hollywood',\n",
      " 'state': 'California',\n",
      " 'user_ratings': 4.2}\n",
      "o.metadata.distance = 0.5694319605827332\n",
      "\n",
      "\n"
     ]
    }
   ],
   "source": [
    "if client:\n",
    "    client.close()\n",
    "client = weaviate.connect_to_local()\n",
    "articles = client.collections.get(\"Article\")\n",
    "response = articles.query.near_text(\n",
    "    query = \"hotel capacity in downtown Vancouver\",\n",
    "    limit = 2,\n",
    "    return_metadata=MetadataQuery(distance=True)\n",
    ")\n",
    "for o in response.objects:\n",
    "    pprint(o.properties)\n",
    "    print(f\"o.metadata.distance = {o.metadata.distance}\\n\\n\")"
   ]
  },
  {
   "cell_type": "code",
   "execution_count": null,
   "id": "5963cb8a-b3a1-4034-bdac-3decc5027607",
   "metadata": {},
   "outputs": [],
   "source": []
  },
  {
   "cell_type": "code",
   "execution_count": 86,
   "id": "7fd8fba1-e5c2-498f-a189-9d84f44dd82e",
   "metadata": {},
   "outputs": [],
   "source": [
    "if client:\n",
    "    client.close()\n",
    "client = weaviate.connect_to_local()\n",
    "questions = client.collections.get(COLLECTION_NAME)\n",
    "response = questions.query.bm25(\n",
    "    query=\"food\",\n",
    "    limit=3,\n",
    ")\n",
    "for o in response.objects:\n",
    "    pprint(o.properties)"
   ]
  },
  {
   "cell_type": "code",
   "execution_count": 85,
   "id": "8574305b-4bc1-4d9a-8830-e03e833c863f",
   "metadata": {},
   "outputs": [
    {
     "name": "stdout",
     "output_type": "stream",
     "text": [
      "{'answer': 'the diamondback rattler',\n",
      " 'category': 'ANIMALS',\n",
      " 'question': 'Heaviest of all poisonous snakes is this North American '\n",
      "             'rattlesnake'}\n",
      "{'answer': 'Sound barrier',\n",
      " 'category': 'SCIENCE',\n",
      " 'question': 'In 70-degree air, a plane traveling at about 1,130 feet per '\n",
      "             'second breaks it'}\n",
      "{'answer': 'the nose or snout',\n",
      " 'category': 'ANIMALS',\n",
      " 'question': 'The gavial looks very much like a crocodile except for this '\n",
      "             'bodily feature'}\n"
     ]
    }
   ],
   "source": [
    "if client:\n",
    "    client.close()\n",
    "client = weaviate.connect_to_local()\n",
    "questions = client.collections.get(COLLECTION_NAME)\n",
    "response = questions.query.near_text(\n",
    "    query=\"violence\",\n",
    "    limit=3,\n",
    ")\n",
    "for o in response.objects:\n",
    "    pprint(o.properties)"
   ]
  },
  {
   "cell_type": "code",
   "execution_count": null,
   "id": "7b36678b-41fe-4f89-af50-c47488fdf993",
   "metadata": {},
   "outputs": [],
   "source": []
  },
  {
   "cell_type": "code",
   "execution_count": null,
   "id": "6727af44-9f5d-41f6-916f-ddbfc0eb7b0a",
   "metadata": {},
   "outputs": [],
   "source": []
  }
 ],
 "metadata": {
  "kernelspec": {
   "display_name": "Python 3 (ipykernel)",
   "language": "python",
   "name": "python3"
  },
  "language_info": {
   "codemirror_mode": {
    "name": "ipython",
    "version": 3
   },
   "file_extension": ".py",
   "mimetype": "text/x-python",
   "name": "python",
   "nbconvert_exporter": "python",
   "pygments_lexer": "ipython3",
   "version": "3.11.11"
  }
 },
 "nbformat": 4,
 "nbformat_minor": 5
}
